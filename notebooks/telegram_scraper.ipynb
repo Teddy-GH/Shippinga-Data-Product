{
 "cells": [
  {
   "cell_type": "markdown",
   "id": "60d8f0c3",
   "metadata": {},
   "source": [
    "Import"
   ]
  },
  {
   "cell_type": "code",
   "execution_count": 1,
   "id": "cef69d6b",
   "metadata": {},
   "outputs": [],
   "source": [
    "import sys\n",
    "sys.path.append(\"../scripts\")\n",
    "\n",
    "from telegram_scraper import scrape_telegram_channels"
   ]
  },
  {
   "cell_type": "markdown",
   "id": "26f974d3",
   "metadata": {},
   "source": [
    "Scrap"
   ]
  },
  {
   "cell_type": "code",
   "execution_count": 5,
   "id": "d4e5a4f8",
   "metadata": {},
   "outputs": [
    {
     "ename": "RuntimeError",
     "evalue": "You must use \"async with\" if the event loop is running (i.e. you are inside an \"async def\")",
     "output_type": "error",
     "traceback": [
      "\u001b[31m---------------------------------------------------------------------------\u001b[39m",
      "\u001b[31mRuntimeError\u001b[39m                              Traceback (most recent call last)",
      "\u001b[36mCell\u001b[39m\u001b[36m \u001b[39m\u001b[32mIn[5]\u001b[39m\u001b[32m, line 6\u001b[39m\n\u001b[32m      1\u001b[39m channels = [\n\u001b[32m      2\u001b[39m     \u001b[33m\"\u001b[39m\u001b[33mhttps://t.me/lobelia4cosmetics\u001b[39m\u001b[33m\"\u001b[39m,\n\u001b[32m      3\u001b[39m     \u001b[33m\"\u001b[39m\u001b[33mhttps://t.me/tikvahpharma\u001b[39m\u001b[33m\"\u001b[39m\n\u001b[32m      4\u001b[39m ]\n\u001b[32m----> \u001b[39m\u001b[32m6\u001b[39m results = \u001b[43mscrape_telegram_channels\u001b[49m\u001b[43m(\u001b[49m\u001b[43mchannels\u001b[49m\u001b[43m,\u001b[49m\u001b[43m \u001b[49m\u001b[43mlimit\u001b[49m\u001b[43m=\u001b[49m\u001b[32;43m50\u001b[39;49m\u001b[43m)\u001b[49m\n",
      "\u001b[36mFile \u001b[39m\u001b[32mt:\\10-academy\\Week7\\Shippinga-Data-Product\\notebooks\\../scripts\\telegram_scraper.py:33\u001b[39m, in \u001b[36mscrape_telegram_channels\u001b[39m\u001b[34m(channels, limit)\u001b[39m\n\u001b[32m     29\u001b[39m image_dir.mkdir(parents=\u001b[38;5;28;01mTrue\u001b[39;00m, exist_ok=\u001b[38;5;28;01mTrue\u001b[39;00m)\n\u001b[32m     31\u001b[39m all_channel_data = {}\n\u001b[32m---> \u001b[39m\u001b[32m33\u001b[39m \u001b[43m\u001b[49m\u001b[38;5;28;43;01mwith\u001b[39;49;00m\u001b[43m \u001b[49m\u001b[43mTelegramClient\u001b[49m\u001b[43m(\u001b[49m\u001b[33;43m\"\u001b[39;49m\u001b[33;43manon\u001b[39;49m\u001b[33;43m\"\u001b[39;49m\u001b[43m,\u001b[49m\u001b[43m \u001b[49m\u001b[43mAPI_ID\u001b[49m\u001b[43m,\u001b[49m\u001b[43m \u001b[49m\u001b[43mAPI_HASH\u001b[49m\u001b[43m)\u001b[49m\u001b[43m \u001b[49m\u001b[38;5;28;43;01mas\u001b[39;49;00m\u001b[43m \u001b[49m\u001b[43mclient\u001b[49m\u001b[43m:\u001b[49m\n\u001b[32m     34\u001b[39m \u001b[43m    \u001b[49m\u001b[38;5;28;43;01mfor\u001b[39;49;00m\u001b[43m \u001b[49m\u001b[43murl\u001b[49m\u001b[43m \u001b[49m\u001b[38;5;129;43;01min\u001b[39;49;00m\u001b[43m \u001b[49m\u001b[43mchannels\u001b[49m\u001b[43m:\u001b[49m\n\u001b[32m     35\u001b[39m \u001b[43m        \u001b[49m\u001b[38;5;28;43;01mtry\u001b[39;49;00m\u001b[43m:\u001b[49m\n",
      "\u001b[36mFile \u001b[39m\u001b[32mt:\\10-academy\\Week7\\Shippinga-Data-Product\\venv\\Lib\\site-packages\\telethon\\helpers.py:214\u001b[39m, in \u001b[36m_sync_enter\u001b[39m\u001b[34m(self)\u001b[39m\n\u001b[32m    211\u001b[39m     loop = \u001b[38;5;28mself\u001b[39m._client.loop\n\u001b[32m    213\u001b[39m \u001b[38;5;28;01mif\u001b[39;00m loop.is_running():\n\u001b[32m--> \u001b[39m\u001b[32m214\u001b[39m     \u001b[38;5;28;01mraise\u001b[39;00m \u001b[38;5;167;01mRuntimeError\u001b[39;00m(\n\u001b[32m    215\u001b[39m         \u001b[33m'\u001b[39m\u001b[33mYou must use \u001b[39m\u001b[33m\"\u001b[39m\u001b[33masync with\u001b[39m\u001b[33m\"\u001b[39m\u001b[33m if the event loop \u001b[39m\u001b[33m'\u001b[39m\n\u001b[32m    216\u001b[39m         \u001b[33m'\u001b[39m\u001b[33mis running (i.e. you are inside an \u001b[39m\u001b[33m\"\u001b[39m\u001b[33masync def\u001b[39m\u001b[33m\"\u001b[39m\u001b[33m)\u001b[39m\u001b[33m'\u001b[39m\n\u001b[32m    217\u001b[39m     )\n\u001b[32m    219\u001b[39m \u001b[38;5;28;01mreturn\u001b[39;00m loop.run_until_complete(\u001b[38;5;28mself\u001b[39m.\u001b[34m__aenter__\u001b[39m())\n",
      "\u001b[31mRuntimeError\u001b[39m: You must use \"async with\" if the event loop is running (i.e. you are inside an \"async def\")"
     ]
    }
   ],
   "source": [
    "channels = [\n",
    "    \"https://t.me/lobelia4cosmetics\",\n",
    "    \"https://t.me/tikvahpharma\"\n",
    "]\n",
    "\n",
    "results = scrape_telegram_channels(channels, limit=50)"
   ]
  }
 ],
 "metadata": {
  "kernelspec": {
   "display_name": "venv",
   "language": "python",
   "name": "python3"
  },
  "language_info": {
   "codemirror_mode": {
    "name": "ipython",
    "version": 3
   },
   "file_extension": ".py",
   "mimetype": "text/x-python",
   "name": "python",
   "nbconvert_exporter": "python",
   "pygments_lexer": "ipython3",
   "version": "3.13.3"
  }
 },
 "nbformat": 4,
 "nbformat_minor": 5
}
