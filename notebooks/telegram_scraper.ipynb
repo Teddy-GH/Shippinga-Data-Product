{
 "cells": [
  {
   "cell_type": "markdown",
   "id": "60d8f0c3",
   "metadata": {},
   "source": [
    "Import"
   ]
  },
  {
   "cell_type": "code",
   "execution_count": 1,
   "id": "cef69d6b",
   "metadata": {},
   "outputs": [],
   "source": [
    "import sys\n",
    "sys.path.append(\"../scripts\")\n",
    "\n",
    "from telegram_scraper import scrape_telegram_channels"
   ]
  },
  {
   "cell_type": "markdown",
   "id": "26f974d3",
   "metadata": {},
   "source": [
    "Scrap"
   ]
  },
  {
   "cell_type": "code",
   "execution_count": null,
   "id": "d4e5a4f8",
   "metadata": {},
   "outputs": [],
   "source": [
    "channels = [\n",
    "    \"https://t.me/lobelia4cosmetics\",\n",
    "    \"https://t.me/tikvahpharma\"\n",
    "]\n",
    "\n",
    "results = scrape_telegram_channels(channels, limit=50)"
   ]
  }
 ],
 "metadata": {
  "kernelspec": {
   "display_name": "venv",
   "language": "python",
   "name": "python3"
  },
  "language_info": {
   "codemirror_mode": {
    "name": "ipython",
    "version": 3
   },
   "file_extension": ".py",
   "mimetype": "text/x-python",
   "name": "python",
   "nbconvert_exporter": "python",
   "pygments_lexer": "ipython3",
   "version": "3.13.3"
  }
 },
 "nbformat": 4,
 "nbformat_minor": 5
}
